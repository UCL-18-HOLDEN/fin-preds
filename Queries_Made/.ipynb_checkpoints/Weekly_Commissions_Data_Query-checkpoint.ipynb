{
 "cells": [
  {
   "cell_type": "code",
   "execution_count": 14,
   "metadata": {},
   "outputs": [],
   "source": [
    "import numpy as np\n",
    "\n",
    "from os.path import expanduser\n",
    "\n",
    "import ConfigParser\n",
    "\n",
    "import psycopg2\n",
    "import pandas as pd"
   ]
  },
  {
   "cell_type": "markdown",
   "metadata": {},
   "source": [
    "#### Helper functions to fetch username and psw from local file so that I can post these queries!"
   ]
  },
  {
   "cell_type": "code",
   "execution_count": 15,
   "metadata": {},
   "outputs": [],
   "source": [
    "HOME_FOLDER = expanduser(\"~\")\n",
    "DEFAULT_CONFIG_PATH = '{}/Documents/config.ini'.format(HOME_FOLDER)\n",
    "\n",
    "\n",
    "def get_config(path=DEFAULT_CONFIG_PATH, db='redshift'):\n",
    "    \"\"\" Read the current user config for Redshift configuration parameters\n",
    "\n",
    "    Args:\n",
    "        path (str): Path where the user configuration file lives\n",
    "        db (str): DB type (used to search for the correct configuration block)\n",
    "\n",
    "    Returns:\n",
    "        list((key, value)): Parameter configuration values\n",
    "\n",
    "    \"\"\"\n",
    "\n",
    "    config = ConfigParser.ConfigParser()\n",
    "\n",
    "    with open(path) as config_file:\n",
    "        config.readfp(config_file)\n",
    "\n",
    "    return config.items(db)\n",
    "\n",
    "\n",
    "def connect_to_redshift():\n",
    "    \"\"\" Open a live connection to Redshift\n",
    "\n",
    "    Returns:\n",
    "        Cursor: Cursor to the Database\n",
    "    \"\"\"\n",
    "\n",
    "    config = dict(get_config())\n",
    "\n",
    "    redshift = psycopg2.connect(database=config[\"dbname\"],\n",
    "                                user=config[\"username\"],\n",
    "                                password=config[\"password\"],\n",
    "                                host=config[\"hostname\"],\n",
    "                                port=int(config[\"port\"]))\n",
    "    cursor = redshift.cursor()\n",
    "\n",
    "    return cursor\n",
    "\n",
    "\n",
    "def execute_and_fetch_results(cursor, query, as_pandas=True):\n",
    "    \"\"\" Runs a query against the database and returns the result.\n",
    "\n",
    "    The records are returned either  as a list of rows + list of column names\n",
    "    OR as a Pandas Dataframe\n",
    "\n",
    "    Args:\n",
    "        cursor (Cursor): Cursor to the Database\n",
    "        query (str): SQL statement to run against the database\n",
    "        as_pandas(bool): True if the results should be returned as a Pandas DataFrame\n",
    "\n",
    "    Returns:\n",
    "        list(tuples)| DataFrame: Results of the query\n",
    "    \"\"\"\n",
    "\n",
    "    cursor.execute(query)\n",
    "\n",
    "    results = cursor.fetchall()\n",
    "    column_names = [desc[0] for desc in cursor.description]\n",
    "\n",
    "    if as_pandas:\n",
    "        df = pd.DataFrame([x for x in results], columns=column_names)\n",
    "        return df\n",
    "\n",
    "    return results, column_names"
   ]
  },
  {
   "cell_type": "code",
   "execution_count": 16,
   "metadata": {},
   "outputs": [],
   "source": [
    "cursor = connect_to_redshift()"
   ]
  },
  {
   "cell_type": "markdown",
   "metadata": {},
   "source": [
    "#### Some template stuff"
   ]
  },
  {
   "cell_type": "code",
   "execution_count": 1,
   "metadata": {
    "collapsed": true
   },
   "outputs": [
    {
     "ename": "NameError",
     "evalue": "name 'pd' is not defined",
     "output_type": "error",
     "traceback": [
      "\u001b[0;31m---------------------------------------------------------------------------\u001b[0m",
      "\u001b[0;31mNameError\u001b[0m                                 Traceback (most recent call last)",
      "\u001b[0;32m<ipython-input-1-701b4c51524c>\u001b[0m in \u001b[0;36m<module>\u001b[0;34m()\u001b[0m\n\u001b[0;32m----> 1\u001b[0;31m \u001b[0mrng_beg\u001b[0m \u001b[0;34m=\u001b[0m \u001b[0mpd\u001b[0m\u001b[0;34m.\u001b[0m\u001b[0mdate_range\u001b[0m\u001b[0;34m(\u001b[0m\u001b[0mstart\u001b[0m\u001b[0;34m=\u001b[0m\u001b[0;34m'1/1/2015'\u001b[0m\u001b[0;34m,\u001b[0m\u001b[0mend\u001b[0m\u001b[0;34m=\u001b[0m\u001b[0;34m'6/1/2018'\u001b[0m\u001b[0;34m,\u001b[0m \u001b[0mfreq\u001b[0m\u001b[0;34m=\u001b[0m\u001b[0;34m'W'\u001b[0m\u001b[0;34m)\u001b[0m\u001b[0;34m\u001b[0m\u001b[0m\n\u001b[0m\u001b[1;32m      2\u001b[0m \u001b[0mrng_end\u001b[0m \u001b[0;34m=\u001b[0m \u001b[0mpd\u001b[0m\u001b[0;34m.\u001b[0m\u001b[0mdate_range\u001b[0m\u001b[0;34m(\u001b[0m\u001b[0mstart\u001b[0m\u001b[0;34m=\u001b[0m\u001b[0;34m'1/7/2015'\u001b[0m\u001b[0;34m,\u001b[0m\u001b[0mend\u001b[0m\u001b[0;34m=\u001b[0m\u001b[0;34m'6/7/2018'\u001b[0m\u001b[0;34m,\u001b[0m \u001b[0mfreq\u001b[0m\u001b[0;34m=\u001b[0m\u001b[0;34m'W'\u001b[0m\u001b[0;34m)\u001b[0m\u001b[0;34m\u001b[0m\u001b[0m\n\u001b[1;32m      3\u001b[0m \u001b[0;34m\u001b[0m\u001b[0m\n\u001b[1;32m      4\u001b[0m \u001b[0mrng_beg\u001b[0m\u001b[0;34m\u001b[0m\u001b[0m\n",
      "\u001b[0;31mNameError\u001b[0m: name 'pd' is not defined"
     ]
    }
   ],
   "source": [
    "rng_beg = pd.date_range(start='1/1/2015',end='6/1/2018', freq='W')\n",
    "rng_end = pd.date_range(start='1/7/2015',end='6/7/2018', freq='W')\n",
    "\n",
    "rng_beg"
   ]
  },
  {
   "cell_type": "code",
   "execution_count": null,
   "metadata": {},
   "outputs": [],
   "source": [
    "#query = \"\"\"\n",
    "#SELECT sum(order_amount_gbp) AS order_amount,sum(publisher_amount_gbp) AS publisher_amount\n",
    "#FROM mugic_comms_gbp\n",
    "#WHERE transaction_date > '{}' AND transaction_date < '{}'\n",
    "#LIMIT 10\n",
    "#\"\"\".format(a,b)\n"
   ]
  },
  {
   "cell_type": "code",
   "execution_count": null,
   "metadata": {},
   "outputs": [],
   "source": [
    "#print query"
   ]
  },
  {
   "cell_type": "code",
   "execution_count": null,
   "metadata": {},
   "outputs": [],
   "source": [
    "#data = execute_and_fetch_results(cursor,query)\n",
    "#data['week_end'] = b"
   ]
  },
  {
   "cell_type": "code",
   "execution_count": null,
   "metadata": {},
   "outputs": [],
   "source": [
    "#df = pd.DataFrame()"
   ]
  },
  {
   "cell_type": "code",
   "execution_count": null,
   "metadata": {},
   "outputs": [],
   "source": [
    "#df = df.append(data)\n",
    "#df"
   ]
  },
  {
   "cell_type": "markdown",
   "metadata": {},
   "source": [
    "#### Actual Loop"
   ]
  },
  {
   "cell_type": "code",
   "execution_count": null,
   "metadata": {},
   "outputs": [],
   "source": [
    "#cursor = connect_to_redshift()\n",
    "\n",
    "rng_beg = pd.date_range(start='1/1/2015',end='6/1/2018', freq='W')\n",
    "rng_end = pd.date_range(start='1/7/2015',end='6/7/2018', freq='W')\n",
    "\n",
    "df = pd.DataFrame()\n",
    "\n",
    "for i in range(177):\n",
    "    beg = rng_beg[i].strftime('%Y/%m/%d')\n",
    "    end = rng_end[i].strftime('%Y/%m/%d')\n",
    "    \n",
    "    query = \"\"\"\n",
    "    SELECT sum(order_amount_gbp) AS order_amount,sum(publisher_amount_gbp) AS publisher_amount\n",
    "    FROM mugic_comms_gbp\n",
    "    WHERE transaction_date > '{}' AND transaction_date < '{}' AND skimlinks_status IN (1,2)\n",
    "    LIMIT 10\n",
    "    \"\"\".format(beg,end)\n",
    "    \n",
    "    data = execute_and_fetch_results(cursor,query)\n",
    "    data['week_end'] = end\n",
    "    data['currency'] = 'GBP'\n",
    "    \n",
    "    df = df.append(data)\n",
    "    \n",
    "df.reset_index(inplace=True)\n",
    "df.head()\n",
    "    \n",
    "    \n",
    "    "
   ]
  },
  {
   "cell_type": "code",
   "execution_count": null,
   "metadata": {},
   "outputs": [],
   "source": [
    "#df.drop(['index'],axis=1,inplace=True)\n",
    "\n",
    "df.to_csv('weekly_commissions_since2015.csv',index=False)"
   ]
  },
  {
   "cell_type": "code",
   "execution_count": null,
   "metadata": {},
   "outputs": [],
   "source": []
  }
 ],
 "metadata": {
  "kernelspec": {
   "display_name": "Python 2",
   "language": "python",
   "name": "python2"
  },
  "language_info": {
   "codemirror_mode": {
    "name": "ipython",
    "version": 2
   },
   "file_extension": ".py",
   "mimetype": "text/x-python",
   "name": "python",
   "nbconvert_exporter": "python",
   "pygments_lexer": "ipython2",
   "version": "2.7.15"
  }
 },
 "nbformat": 4,
 "nbformat_minor": 2
}
