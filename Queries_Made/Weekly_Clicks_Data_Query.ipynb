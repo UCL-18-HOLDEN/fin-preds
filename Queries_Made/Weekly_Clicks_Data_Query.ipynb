{
 "cells": [
  {
   "cell_type": "code",
   "execution_count": 1,
   "metadata": {},
   "outputs": [],
   "source": [
    "import MySQLdb\n",
    "import MySQLdb.cursors\n",
    "import logging\n",
    "\n",
    "import pandas as pd\n",
    "import numpy as np\n",
    "import matplotlib.pyplot as plt\n",
    "\n",
    "\n",
    "from os.path import expanduser\n",
    "\n",
    "import ConfigParser"
   ]
  },
  {
   "cell_type": "code",
   "execution_count": 2,
   "metadata": {},
   "outputs": [],
   "source": [
    "HOME_FOLDER = expanduser(\"~\")\n",
    "DEFAULT_CONFIG_PATH = '{}/Documents/config.ini'.format(HOME_FOLDER)\n",
    "\n",
    "\n",
    "def get_config(path=DEFAULT_CONFIG_PATH, db='spot'):\n",
    "    \"\"\" Read the current user config for Redshift configuration parameters\n",
    "\n",
    "    Args:\n",
    "        path (str): Path where the user configuration file lives\n",
    "        db (str): DB type (used to search for the correct configuration block)\n",
    "\n",
    "    Returns:\n",
    "        list((key, value)): Parameter configuration values\n",
    "\n",
    "    \"\"\"\n",
    "\n",
    "    config = ConfigParser.ConfigParser()\n",
    "\n",
    "    with open(path) as config_file:\n",
    "        config.readfp(config_file)\n",
    "\n",
    "    return config.items(db)\n",
    "\n",
    "\n",
    "def connect_to_mysql():\n",
    "    \"\"\" Open a live connection to Redshift\n",
    "\n",
    "    Returns:\n",
    "        Cursor: Cursor to the Database\n",
    "    \"\"\"\n",
    "\n",
    "    config = dict(get_config())\n",
    "\n",
    "    mysql = MySQLdb.connect(passwd=config['password'],\n",
    "                            host=config['hostname'],\n",
    "                            user=config['username'],\n",
    "                            db=config['dbname'], \n",
    "                            cursorclass=MySQLdb.cursors.DictCursor,\n",
    "                            use_unicode=True,\n",
    "                            charset=\"utf8\")\n",
    "    \n",
    "    cursor = mysql.cursor()\n",
    "\n",
    "    return cursor\n",
    "\n",
    "\n",
    "def execute_and_fetch_results(cursor, query, as_pandas=True):\n",
    "    \"\"\" Runs a query against the database and returns the result.\n",
    "\n",
    "    The records are returned either  as a list of rows + list of column names\n",
    "    OR as a Pandas Dataframe\n",
    "\n",
    "    Args:\n",
    "        cursor (Cursor): Cursor to the Database\n",
    "        query (str): SQL statement to run against the database\n",
    "        as_pandas(bool): True if the results should be returned as a Pandas DataFrame\n",
    "\n",
    "    Returns:\n",
    "        list(tuples)| DataFrame: Results of the query\n",
    "    \"\"\"\n",
    "\n",
    "    cursor.execute(query)\n",
    "\n",
    "    results = cursor.fetchall()\n",
    "    column_names = [desc[0] for desc in cursor.description]\n",
    "\n",
    "    if as_pandas:\n",
    "        df = pd.DataFrame([x for x in results], columns=column_names)\n",
    "        return df\n",
    "\n",
    "    return results, column_names"
   ]
  },
  {
   "cell_type": "code",
   "execution_count": 3,
   "metadata": {},
   "outputs": [],
   "source": [
    "cursor = connect_to_mysql()"
   ]
  },
  {
   "cell_type": "markdown",
   "metadata": {},
   "source": [
    "#### WIP (ignore)"
   ]
  },
  {
   "cell_type": "code",
   "execution_count": 1,
   "metadata": {},
   "outputs": [],
   "source": [
    "query = \"\"\"\n",
    "SELECT *\n",
    "FROM audience.Segment\n",
    "LIMIT 10000\n",
    "\"\"\""
   ]
  },
  {
   "cell_type": "code",
   "execution_count": 2,
   "metadata": {},
   "outputs": [],
   "source": [
    "#query = \"\"\"\n",
    "#SELECT * \n",
    "#FROM audience.Segment\n",
    "#WHERE `key` LIKE 'iType_bw%'\n",
    "#LIMIT 10000\n",
    "#\"\"\""
   ]
  },
  {
   "cell_type": "code",
   "execution_count": 3,
   "metadata": {},
   "outputs": [],
   "source": [
    "#query = \"\"\"\n",
    "#SELECT *\n",
    "#FROM audience.SegmentStats\n",
    "#WHERE segment"
   ]
  },
  {
   "cell_type": "code",
   "execution_count": 4,
   "metadata": {
    "collapsed": true
   },
   "outputs": [
    {
     "ename": "NameError",
     "evalue": "name 'execute_and_fetch_results' is not defined",
     "output_type": "error",
     "traceback": [
      "\u001b[0;31m---------------------------------------------------------------------------\u001b[0m",
      "\u001b[0;31mNameError\u001b[0m                                 Traceback (most recent call last)",
      "\u001b[0;32m<ipython-input-4-3e7d663665fa>\u001b[0m in \u001b[0;36m<module>\u001b[0;34m()\u001b[0m\n\u001b[0;32m----> 1\u001b[0;31m \u001b[0mdata\u001b[0m \u001b[0;34m=\u001b[0m \u001b[0mexecute_and_fetch_results\u001b[0m\u001b[0;34m(\u001b[0m\u001b[0mcursor\u001b[0m\u001b[0;34m,\u001b[0m\u001b[0mquery\u001b[0m\u001b[0;34m,\u001b[0m\u001b[0mas_pandas\u001b[0m\u001b[0;34m=\u001b[0m\u001b[0mTrue\u001b[0m\u001b[0;34m)\u001b[0m\u001b[0;34m\u001b[0m\u001b[0m\n\u001b[0m\u001b[1;32m      2\u001b[0m \u001b[0;31m#data.to_csv('segment_brand_affinity.csv',index=False)\u001b[0m\u001b[0;34m\u001b[0m\u001b[0;34m\u001b[0m\u001b[0m\n\u001b[1;32m      3\u001b[0m \u001b[0;34m\u001b[0m\u001b[0m\n\u001b[1;32m      4\u001b[0m \u001b[0mdata\u001b[0m \u001b[0;34m=\u001b[0m \u001b[0mpd\u001b[0m\u001b[0;34m.\u001b[0m\u001b[0mDataFrame\u001b[0m\u001b[0;34m(\u001b[0m\u001b[0mdata\u001b[0m\u001b[0;34m)\u001b[0m\u001b[0;34m\u001b[0m\u001b[0m\n\u001b[1;32m      5\u001b[0m \u001b[0;31m#data = data[['id','key','name','description']]\u001b[0m\u001b[0;34m\u001b[0m\u001b[0;34m\u001b[0m\u001b[0m\n",
      "\u001b[0;31mNameError\u001b[0m: name 'execute_and_fetch_results' is not defined"
     ]
    }
   ],
   "source": [
    "data = execute_and_fetch_results(cursor,query,as_pandas=True)\n",
    "#data.to_csv('segment_brand_affinity.csv',index=False)\n",
    "\n",
    "data = pd.DataFrame(data)\n",
    "#data = data[['id','key','name','description']]\n",
    "#data.to_csv('segment_affinity_brand.csv',index=False)\n",
    "data"
   ]
  },
  {
   "cell_type": "code",
   "execution_count": null,
   "metadata": {},
   "outputs": [],
   "source": [
    "data['name'] = data['name'].str.encode('ascii', 'ignore').str.decode('ascii')\n",
    "data['description'] = data['description'].str.encode('ascii', 'ignore').str.decode('ascii')"
   ]
  },
  {
   "cell_type": "code",
   "execution_count": null,
   "metadata": {},
   "outputs": [],
   "source": [
    "data.to_csv('segment_affinity_brand.csv',index=False)"
   ]
  },
  {
   "cell_type": "markdown",
   "metadata": {},
   "source": [
    "#### Set up financial sectors guid queries"
   ]
  },
  {
   "cell_type": "code",
   "execution_count": null,
   "metadata": {},
   "outputs": [],
   "source": [
    "seg_groups = pd.read_csv('industry_segmentKeys.csv')"
   ]
  },
  {
   "cell_type": "code",
   "execution_count": null,
   "metadata": {},
   "outputs": [],
   "source": [
    "seg_groups.columns"
   ]
  },
  {
   "cell_type": "code",
   "execution_count": null,
   "metadata": {},
   "outputs": [],
   "source": [
    "sector = 'Media_Entertainment'"
   ]
  },
  {
   "cell_type": "code",
   "execution_count": null,
   "metadata": {},
   "outputs": [],
   "source": [
    "merchants_selected = ','.join([\"'{}'\".format(m) for m in seg_groups[sector].dropna()])\n",
    "print(merchants_selected)"
   ]
  },
  {
   "cell_type": "code",
   "execution_count": null,
   "metadata": {},
   "outputs": [],
   "source": [
    "query = \"\"\"\n",
    "SELECT *\n",
    "FROM audience.SegmentStats \n",
    "WHERE partnerKey = 'total' \n",
    "AND segmentKey IN ({})\n",
    "LIMIT 300000\n",
    "\"\"\".format(merchants_selected)"
   ]
  },
  {
   "cell_type": "code",
   "execution_count": null,
   "metadata": {},
   "outputs": [],
   "source": [
    "data = execute_and_fetch_results(cursor,query,as_pandas=True)\n",
    "data['segmentKey'] = data['segmentKey'].astype(str)"
   ]
  },
  {
   "cell_type": "code",
   "execution_count": null,
   "metadata": {},
   "outputs": [],
   "source": [
    "data.head()"
   ]
  },
  {
   "cell_type": "code",
   "execution_count": null,
   "metadata": {},
   "outputs": [],
   "source": [
    "#data.to_csv('TS_stats_'+sector+'.csv',index=False)"
   ]
  },
  {
   "cell_type": "code",
   "execution_count": null,
   "metadata": {},
   "outputs": [],
   "source": [
    "seg_groups = pd.read_csv('industry_segmentKeys.csv')\n",
    "\n",
    "for sector in seg_groups.columns:\n",
    "    \n",
    "    print sector\n",
    "    \n",
    "    merchants_selected = ','.join([\"'{}'\".format(m) for m in seg_groups[sector].dropna()])\n",
    "    \n",
    "    query = \"\"\"\n",
    "    SELECT *\n",
    "    FROM audience.SegmentStats \n",
    "    WHERE partnerKey = 'total' \n",
    "    AND segmentKey IN ({})\n",
    "    LIMIT 300000\n",
    "    \"\"\".format(merchants_selected)\n",
    "    \n",
    "    data = execute_and_fetch_results(cursor,query,as_pandas=True)\n",
    "    data['segmentKey'] = data['segmentKey'].astype(str)\n",
    "    \n",
    "    data.to_csv('TS_stats_'+sector+'.csv',index=False)"
   ]
  },
  {
   "cell_type": "markdown",
   "metadata": {},
   "source": [
    "#### Get brand specific affinities guids"
   ]
  },
  {
   "cell_type": "code",
   "execution_count": null,
   "metadata": {},
   "outputs": [],
   "source": [
    "affinities = pd.read_csv('affinity_keys.csv')\n",
    "\n",
    "affinities.head()"
   ]
  },
  {
   "cell_type": "code",
   "execution_count": null,
   "metadata": {},
   "outputs": [],
   "source": [
    "merchants_selected = ','.join([\"'{}'\".format(m) for m in affinities['key']])\n",
    "print(merchants_selected)"
   ]
  },
  {
   "cell_type": "code",
   "execution_count": null,
   "metadata": {},
   "outputs": [],
   "source": [
    "merchants_selected = ','.join([\"'{}'\".format(m) for m in affinities['key']])\n",
    "\n",
    "query = \"\"\"\n",
    "SELECT *\n",
    "FROM audience.SegmentStats \n",
    "WHERE partnerKey = 'total' \n",
    "AND segmentKey IN ({})\n",
    "LIMIT 300000\n",
    "\"\"\".format(merchants_selected)"
   ]
  },
  {
   "cell_type": "code",
   "execution_count": null,
   "metadata": {},
   "outputs": [],
   "source": [
    "data = execute_and_fetch_results(cursor,query,as_pandas=True)\n",
    "data['segmentKey'] = data['segmentKey'].astype(str)"
   ]
  },
  {
   "cell_type": "code",
   "execution_count": null,
   "metadata": {},
   "outputs": [],
   "source": [
    "data.head()"
   ]
  },
  {
   "cell_type": "code",
   "execution_count": null,
   "metadata": {},
   "outputs": [],
   "source": [
    "df1 = affinities[['key','name','generic']]\n",
    "df1['key'] = df1['key'].str.lower()\n",
    "data1 = pd.merge(data,df1,how='left',left_on='segmentKey',right_on='key')"
   ]
  },
  {
   "cell_type": "code",
   "execution_count": null,
   "metadata": {},
   "outputs": [],
   "source": [
    "data1.head()"
   ]
  },
  {
   "cell_type": "code",
   "execution_count": null,
   "metadata": {
    "scrolled": true
   },
   "outputs": [],
   "source": [
    "data2 = data1.groupby(by='name').count()\n",
    "data2['count'] = data2['key']\n",
    "data2 = data2[['count']]\n",
    "data2.reset_index(inplace=True)"
   ]
  },
  {
   "cell_type": "code",
   "execution_count": null,
   "metadata": {},
   "outputs": [],
   "source": [
    "data3 = pd.merge(data1,data2,how='left',left_on='name',right_on='name')\n",
    "data3"
   ]
  },
  {
   "cell_type": "code",
   "execution_count": null,
   "metadata": {},
   "outputs": [],
   "source": [
    "data3.to_csv('full_brand_affinity_TS.csv',index=False)"
   ]
  },
  {
   "cell_type": "code",
   "execution_count": null,
   "metadata": {},
   "outputs": [],
   "source": []
  }
 ],
 "metadata": {
  "kernelspec": {
   "display_name": "Python 2",
   "language": "python",
   "name": "python2"
  },
  "language_info": {
   "codemirror_mode": {
    "name": "ipython",
    "version": 2
   },
   "file_extension": ".py",
   "mimetype": "text/x-python",
   "name": "python",
   "nbconvert_exporter": "python",
   "pygments_lexer": "ipython2",
   "version": "2.7.15"
  }
 },
 "nbformat": 4,
 "nbformat_minor": 2
}
